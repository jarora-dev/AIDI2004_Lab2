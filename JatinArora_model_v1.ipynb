{
  "nbformat": 4,
  "nbformat_minor": 0,
  "metadata": {
    "colab": {
      "provenance": []
    },
    "kernelspec": {
      "name": "python3",
      "display_name": "Python 3"
    },
    "language_info": {
      "name": "python"
    }
  },
  "cells": [
    {
      "cell_type": "code",
      "execution_count": 23,
      "metadata": {
        "id": "Z04-Ii3jdlNZ"
      },
      "outputs": [],
      "source": [
        "#Importing the libraries\n",
        "import pandas as pd\n",
        "import numpy as np\n",
        "from sklearn.linear_model import LogisticRegression\n",
        "from sklearn.model_selection import train_test_split"
      ]
    },
    {
      "cell_type": "code",
      "source": [
        "# Load the breast cancer dataset\n",
        "column_names = [\"Sample code number\", \"Clump Thickness\", \"Uniformity of Cell Size\",\"Uniformity of Cell Shape\",\n",
        "                \"Marginal Adhesion\", \"Single Epithelial Cell Size\", \"Bare Nuclei\", \"Bland Chromatin\", \n",
        "                \"Normal Nucleoli\",\"Mitoses\",\"Class\" ]\n",
        "\n",
        "df =  pd.read_csv('breast-cancer-wisconsin.data', sep=\",\", names = column_names)"
      ],
      "metadata": {
        "id": "2dd14R2beFO1"
      },
      "execution_count": 24,
      "outputs": []
    },
    {
      "cell_type": "code",
      "source": [
        "# Data Cleaning\n",
        "df = df.replace('?', 0)"
      ],
      "metadata": {
        "id": "WifcMaJhSAgj"
      },
      "execution_count": 25,
      "outputs": []
    },
    {
      "cell_type": "code",
      "source": [
        "# Split the data into features (X) and labels (y)\n",
        "X = df.drop([\"Class\",\"Sample code number\"], axis=1).values\n",
        "y = df[\"Class\"].values"
      ],
      "metadata": {
        "id": "ZXZcxgCoftZE"
      },
      "execution_count": 26,
      "outputs": []
    },
    {
      "cell_type": "code",
      "source": [
        "#Split the data into training and test sets\n",
        "X_train, X_test, y_train, y_test = train_test_split(X, y, test_size=0.2, random_state=42)\n"
      ],
      "metadata": {
        "id": "9L-cQY5cgab8"
      },
      "execution_count": 27,
      "outputs": []
    },
    {
      "cell_type": "code",
      "source": [
        "# Train a Logistic Regression Classifier\n",
        "clf = LogisticRegression()\n",
        "clf.fit(X_train, y_train)"
      ],
      "metadata": {
        "colab": {
          "base_uri": "https://localhost:8080/"
        },
        "id": "mYhKT40jhSsW",
        "outputId": "936e806b-d855-41a1-f454-5cac24192e80"
      },
      "execution_count": 28,
      "outputs": [
        {
          "output_type": "execute_result",
          "data": {
            "text/plain": [
              "LogisticRegression()"
            ]
          },
          "metadata": {},
          "execution_count": 28
        }
      ]
    },
    {
      "cell_type": "code",
      "source": [
        "# Predict the labels for the test set\n",
        "y_pred = clf.predict(X_test)"
      ],
      "metadata": {
        "id": "IkH_aSIYhUiX"
      },
      "execution_count": 29,
      "outputs": []
    },
    {
      "cell_type": "code",
      "source": [
        "# Calculate the accuracy of the classifier\n",
        "accuracy = sum(y_test == y_pred) / len(y_test)\n",
        "print(\"Accuracy:\", accuracy)"
      ],
      "metadata": {
        "id": "Zi8dQT-6hWYQ",
        "colab": {
          "base_uri": "https://localhost:8080/"
        },
        "outputId": "e5c498d6-73e2-4beb-9f4c-3e56c6659c58"
      },
      "execution_count": 30,
      "outputs": [
        {
          "output_type": "stream",
          "name": "stdout",
          "text": [
            "Accuracy: 0.9642857142857143\n"
          ]
        }
      ]
    }
  ]
}